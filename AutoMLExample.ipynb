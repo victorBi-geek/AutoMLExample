{
  "nbformat": 4,
  "nbformat_minor": 0,
  "metadata": {
    "colab": {
      "name": "AutoMLExample.ipynb",
      "provenance": [],
      "collapsed_sections": [],
      "toc_visible": true,
      "authorship_tag": "ABX9TyPx4ykbnHAqo1HLvhSCPeB1",
      "include_colab_link": true
    },
    "kernelspec": {
      "display_name": "Python 3",
      "name": "python3"
    },
    "language_info": {
      "name": "python"
    }
  },
  "cells": [
    {
      "cell_type": "markdown",
      "metadata": {
        "id": "view-in-github",
        "colab_type": "text"
      },
      "source": [
        "<a href=\"https://colab.research.google.com/github/victorBi-geek/AutoMLExample/blob/main/AutoMLExample.ipynb\" target=\"_parent\"><img src=\"https://colab.research.google.com/assets/colab-badge.svg\" alt=\"Open In Colab\"/></a>"
      ]
    },
    {
      "cell_type": "code",
      "metadata": {
        "id": "gUrZVu1DasKt"
      },
      "source": [
        "pip install requests"
      ],
      "execution_count": null,
      "outputs": []
    },
    {
      "cell_type": "code",
      "metadata": {
        "colab": {
          "background_save": true
        },
        "id": "OMeHW01ubEqc",
        "outputId": "4f4cda88-f352-4576-d4e1-e2667ee2c1b0"
      },
      "source": [
        "pip install tabulate"
      ],
      "execution_count": null,
      "outputs": [
        {
          "name": "stdout",
          "output_type": "stream",
          "text": [
            "Requirement already satisfied: tabulate in /usr/local/lib/python3.7/dist-packages (0.8.9)\n"
          ]
        }
      ]
    },
    {
      "cell_type": "code",
      "metadata": {
        "id": "mLKNyNUbbH3v"
      },
      "source": [
        "pip install \"colorama>=0.3.8\""
      ],
      "execution_count": null,
      "outputs": []
    },
    {
      "cell_type": "code",
      "metadata": {
        "id": "jpNEq6vAbubU"
      },
      "source": [
        "pip install future"
      ],
      "execution_count": null,
      "outputs": []
    },
    {
      "cell_type": "code",
      "metadata": {
        "colab": {
          "background_save": true,
          "base_uri": "https://localhost:8080/"
        },
        "id": "qOn8wzQpbKEx",
        "outputId": "c98ea5fa-193f-4647-c970-46c4551355f5"
      },
      "source": [
        "pip install -f http://h2o-release.s3.amazonaws.com/h2o/latest_stable_Py.html h2o"
      ],
      "execution_count": null,
      "outputs": [
        {
          "name": "stdout",
          "output_type": "stream",
          "text": [
            "Looking in links: http://h2o-release.s3.amazonaws.com/h2o/latest_stable_Py.html\n",
            "\u001b[33mWARNING: The repository located at h2o-release.s3.amazonaws.com is not a trusted or secure host and is being ignored. If this repository is available via HTTPS we recommend you use HTTPS instead, otherwise you may silence this warning and allow it anyway with '--trusted-host h2o-release.s3.amazonaws.com'.\u001b[0m\n",
            "Collecting h2o\n",
            "  Downloading h2o-3.32.1.7.tar.gz (170.0 MB)\n",
            "\u001b[K     |████████████████████████████████| 170.0 MB 18 kB/s \n",
            "\u001b[?25hRequirement already satisfied: requests in /usr/local/lib/python3.7/dist-packages (from h2o) (2.23.0)\n",
            "Requirement already satisfied: tabulate in /usr/local/lib/python3.7/dist-packages (from h2o) (0.8.9)\n",
            "Requirement already satisfied: future in /usr/local/lib/python3.7/dist-packages (from h2o) (0.16.0)\n",
            "\u001b[33mWARNING: The repository located at h2o-release.s3.amazonaws.com is not a trusted or secure host and is being ignored. If this repository is available via HTTPS we recommend you use HTTPS instead, otherwise you may silence this warning and allow it anyway with '--trusted-host h2o-release.s3.amazonaws.com'.\u001b[0m\n",
            "Collecting colorama>=0.3.8\n",
            "  Downloading colorama-0.4.4-py2.py3-none-any.whl (16 kB)\n",
            "Requirement already satisfied: urllib3!=1.25.0,!=1.25.1,<1.26,>=1.21.1 in /usr/local/lib/python3.7/dist-packages (from requests->h2o) (1.24.3)\n",
            "Requirement already satisfied: certifi>=2017.4.17 in /usr/local/lib/python3.7/dist-packages (from requests->h2o) (2021.5.30)\n",
            "Requirement already satisfied: idna<3,>=2.5 in /usr/local/lib/python3.7/dist-packages (from requests->h2o) (2.10)\n",
            "Requirement already satisfied: chardet<4,>=3.0.2 in /usr/local/lib/python3.7/dist-packages (from requests->h2o) (3.0.4)\n",
            "Building wheels for collected packages: h2o\n",
            "  Building wheel for h2o (setup.py) ... \u001b[?25l\u001b[?25hdone\n",
            "  Created wheel for h2o: filename=h2o-3.32.1.7-py2.py3-none-any.whl size=170040343 sha256=3d3d4ec91074392611971c18b4fea31f5bfc2e217ae8bb5a8fe843bcf0ea7bcf\n",
            "  Stored in directory: /root/.cache/pip/wheels/6e/60/8f/172971bebc94f839b69460f46c9a5fc9e7e88457453bb149d7\n",
            "Successfully built h2o\n",
            "Installing collected packages: colorama, h2o\n",
            "Successfully installed colorama-0.4.4 h2o-3.32.1.7\n"
          ]
        }
      ]
    },
    {
      "cell_type": "code",
      "metadata": {
        "colab": {
          "background_save": true
        },
        "id": "wryaeRzqbLgB",
        "outputId": "f44838c1-3ec4-4185-fb57-f48c4a817e93"
      },
      "source": [
        "pip install -f http://h2o-release.s3.amazonaws.com/h2o/latest_stable_Py.html h2o --user"
      ],
      "execution_count": null,
      "outputs": [
        {
          "name": "stdout",
          "output_type": "stream",
          "text": [
            "Looking in links: http://h2o-release.s3.amazonaws.com/h2o/latest_stable_Py.html\n",
            "Requirement already satisfied: h2o in /usr/local/lib/python3.7/dist-packages (3.32.1.7)\n",
            "Requirement already satisfied: tabulate in /usr/local/lib/python3.7/dist-packages (from h2o) (0.8.9)\n",
            "Requirement already satisfied: future in /usr/local/lib/python3.7/dist-packages (from h2o) (0.16.0)\n",
            "Requirement already satisfied: colorama>=0.3.8 in /usr/local/lib/python3.7/dist-packages (from h2o) (0.4.4)\n",
            "Requirement already satisfied: requests in /usr/local/lib/python3.7/dist-packages (from h2o) (2.23.0)\n",
            "Requirement already satisfied: certifi>=2017.4.17 in /usr/local/lib/python3.7/dist-packages (from requests->h2o) (2021.5.30)\n",
            "Requirement already satisfied: urllib3!=1.25.0,!=1.25.1,<1.26,>=1.21.1 in /usr/local/lib/python3.7/dist-packages (from requests->h2o) (1.24.3)\n",
            "Requirement already satisfied: idna<3,>=2.5 in /usr/local/lib/python3.7/dist-packages (from requests->h2o) (2.10)\n",
            "Requirement already satisfied: chardet<4,>=3.0.2 in /usr/local/lib/python3.7/dist-packages (from requests->h2o) (3.0.4)\n"
          ]
        }
      ]
    },
    {
      "cell_type": "code",
      "metadata": {
        "colab": {
          "background_save": true
        },
        "id": "rhHfzgMPbM9g"
      },
      "source": [
        "import h2o\n",
        "from h2o.automl import H2OAutoML\n",
        "import os"
      ],
      "execution_count": null,
      "outputs": []
    },
    {
      "cell_type": "code",
      "metadata": {
        "colab": {
          "background_save": true
        },
        "id": "YnnQqI_0bz8b",
        "outputId": "a2a95b42-2542-45ba-f148-8b6a2176c86e"
      },
      "source": [
        "h2o.init()"
      ],
      "execution_count": null,
      "outputs": [
        {
          "name": "stdout",
          "output_type": "stream",
          "text": [
            "Checking whether there is an H2O instance running at http://localhost:54321 ..... not found.\n",
            "Attempting to start a local H2O server...\n",
            "  Java Version: openjdk version \"11.0.11\" 2021-04-20; OpenJDK Runtime Environment (build 11.0.11+9-Ubuntu-0ubuntu2.18.04); OpenJDK 64-Bit Server VM (build 11.0.11+9-Ubuntu-0ubuntu2.18.04, mixed mode, sharing)\n",
            "  Starting server from /usr/local/lib/python3.7/dist-packages/h2o/backend/bin/h2o.jar\n",
            "  Ice root: /tmp/tmpwl0pqiix\n",
            "  JVM stdout: /tmp/tmpwl0pqiix/h2o_unknownUser_started_from_python.out\n",
            "  JVM stderr: /tmp/tmpwl0pqiix/h2o_unknownUser_started_from_python.err\n",
            "  Server is running at http://127.0.0.1:54321\n",
            "Connecting to H2O server at http://127.0.0.1:54321 ... successful.\n"
          ]
        },
        {
          "data": {
            "text/html": [
              "<div style=\"overflow:auto\"><table style=\"width:50%\"><tr><td>H2O_cluster_uptime:</td>\n",
              "<td>02 secs</td></tr>\n",
              "<tr><td>H2O_cluster_timezone:</td>\n",
              "<td>Etc/UTC</td></tr>\n",
              "<tr><td>H2O_data_parsing_timezone:</td>\n",
              "<td>UTC</td></tr>\n",
              "<tr><td>H2O_cluster_version:</td>\n",
              "<td>3.32.1.7</td></tr>\n",
              "<tr><td>H2O_cluster_version_age:</td>\n",
              "<td>11 days </td></tr>\n",
              "<tr><td>H2O_cluster_name:</td>\n",
              "<td>H2O_from_python_unknownUser_xldfy2</td></tr>\n",
              "<tr><td>H2O_cluster_total_nodes:</td>\n",
              "<td>1</td></tr>\n",
              "<tr><td>H2O_cluster_free_memory:</td>\n",
              "<td>3.172 Gb</td></tr>\n",
              "<tr><td>H2O_cluster_total_cores:</td>\n",
              "<td>2</td></tr>\n",
              "<tr><td>H2O_cluster_allowed_cores:</td>\n",
              "<td>2</td></tr>\n",
              "<tr><td>H2O_cluster_status:</td>\n",
              "<td>accepting new members, healthy</td></tr>\n",
              "<tr><td>H2O_connection_url:</td>\n",
              "<td>http://127.0.0.1:54321</td></tr>\n",
              "<tr><td>H2O_connection_proxy:</td>\n",
              "<td>{\"http\": null, \"https\": null}</td></tr>\n",
              "<tr><td>H2O_internal_security:</td>\n",
              "<td>False</td></tr>\n",
              "<tr><td>H2O_API_Extensions:</td>\n",
              "<td>Amazon S3, XGBoost, Algos, AutoML, Core V3, TargetEncoder, Core V4</td></tr>\n",
              "<tr><td>Python_version:</td>\n",
              "<td>3.7.11 final</td></tr></table></div>"
            ],
            "text/plain": [
              "--------------------------  ------------------------------------------------------------------\n",
              "H2O_cluster_uptime:         02 secs\n",
              "H2O_cluster_timezone:       Etc/UTC\n",
              "H2O_data_parsing_timezone:  UTC\n",
              "H2O_cluster_version:        3.32.1.7\n",
              "H2O_cluster_version_age:    11 days\n",
              "H2O_cluster_name:           H2O_from_python_unknownUser_xldfy2\n",
              "H2O_cluster_total_nodes:    1\n",
              "H2O_cluster_free_memory:    3.172 Gb\n",
              "H2O_cluster_total_cores:    2\n",
              "H2O_cluster_allowed_cores:  2\n",
              "H2O_cluster_status:         accepting new members, healthy\n",
              "H2O_connection_url:         http://127.0.0.1:54321\n",
              "H2O_connection_proxy:       {\"http\": null, \"https\": null}\n",
              "H2O_internal_security:      False\n",
              "H2O_API_Extensions:         Amazon S3, XGBoost, Algos, AutoML, Core V3, TargetEncoder, Core V4\n",
              "Python_version:             3.7.11 final\n",
              "--------------------------  ------------------------------------------------------------------"
            ]
          },
          "metadata": {},
          "output_type": "display_data"
        }
      ]
    },
    {
      "cell_type": "code",
      "metadata": {
        "colab": {
          "background_save": true
        },
        "id": "LYuPrrP7bTB-"
      },
      "source": [
        "data_path = \"heart_failure_clinical_records_dataset.csv\""
      ],
      "execution_count": null,
      "outputs": []
    },
    {
      "cell_type": "code",
      "metadata": {
        "colab": {
          "background_save": true
        },
        "id": "THRTC7eznjRv",
        "outputId": "ed640170-495e-4aa5-e7e2-d74d6cc0860c"
      },
      "source": [
        "df = h2o.import_file(data_path)"
      ],
      "execution_count": null,
      "outputs": [
        {
          "name": "stdout",
          "output_type": "stream",
          "text": [
            "Parse progress: |█████████████████████████████████████████████████████████| 100%\n"
          ]
        }
      ]
    },
    {
      "cell_type": "code",
      "metadata": {
        "colab": {
          "background_save": true
        },
        "id": "kP4gcHKmn5rU",
        "outputId": "dbd64c52-9ad9-46cb-9706-a3e3ad63e55f"
      },
      "source": [
        "df"
      ],
      "execution_count": null,
      "outputs": [
        {
          "data": {
            "text/html": [
              "<table>\n",
              "<thead>\n",
              "<tr><th style=\"text-align: right;\">  age</th><th style=\"text-align: right;\">  anaemia</th><th style=\"text-align: right;\">  creatinine_phosphokinase</th><th style=\"text-align: right;\">  diabetes</th><th style=\"text-align: right;\">  ejection_fraction</th><th style=\"text-align: right;\">  high_blood_pressure</th><th style=\"text-align: right;\">       platelets</th><th style=\"text-align: right;\">  serum_creatinine</th><th style=\"text-align: right;\">  serum_sodium</th><th style=\"text-align: right;\">  sex</th><th style=\"text-align: right;\">  smoking</th><th style=\"text-align: right;\">  time</th><th style=\"text-align: right;\">  DEATH_EVENT</th></tr>\n",
              "</thead>\n",
              "<tbody>\n",
              "<tr><td style=\"text-align: right;\">   75</td><td style=\"text-align: right;\">        0</td><td style=\"text-align: right;\">                       582</td><td style=\"text-align: right;\">         0</td><td style=\"text-align: right;\">                 20</td><td style=\"text-align: right;\">                    1</td><td style=\"text-align: right;\">265000          </td><td style=\"text-align: right;\">                19</td><td style=\"text-align: right;\">           130</td><td style=\"text-align: right;\">    1</td><td style=\"text-align: right;\">        0</td><td style=\"text-align: right;\">     4</td><td style=\"text-align: right;\">            1</td></tr>\n",
              "<tr><td style=\"text-align: right;\">   55</td><td style=\"text-align: right;\">        0</td><td style=\"text-align: right;\">                      7861</td><td style=\"text-align: right;\">         0</td><td style=\"text-align: right;\">                 38</td><td style=\"text-align: right;\">                    0</td><td style=\"text-align: right;\">     2.63358e+07</td><td style=\"text-align: right;\">                11</td><td style=\"text-align: right;\">           136</td><td style=\"text-align: right;\">    1</td><td style=\"text-align: right;\">        0</td><td style=\"text-align: right;\">     6</td><td style=\"text-align: right;\">            1</td></tr>\n",
              "<tr><td style=\"text-align: right;\">   65</td><td style=\"text-align: right;\">        0</td><td style=\"text-align: right;\">                       146</td><td style=\"text-align: right;\">         0</td><td style=\"text-align: right;\">                 20</td><td style=\"text-align: right;\">                    0</td><td style=\"text-align: right;\">162000          </td><td style=\"text-align: right;\">                13</td><td style=\"text-align: right;\">           129</td><td style=\"text-align: right;\">    1</td><td style=\"text-align: right;\">        1</td><td style=\"text-align: right;\">     7</td><td style=\"text-align: right;\">            1</td></tr>\n",
              "<tr><td style=\"text-align: right;\">   50</td><td style=\"text-align: right;\">        1</td><td style=\"text-align: right;\">                       111</td><td style=\"text-align: right;\">         0</td><td style=\"text-align: right;\">                 20</td><td style=\"text-align: right;\">                    0</td><td style=\"text-align: right;\">210000          </td><td style=\"text-align: right;\">                19</td><td style=\"text-align: right;\">           137</td><td style=\"text-align: right;\">    1</td><td style=\"text-align: right;\">        0</td><td style=\"text-align: right;\">     7</td><td style=\"text-align: right;\">            1</td></tr>\n",
              "<tr><td style=\"text-align: right;\">   65</td><td style=\"text-align: right;\">        1</td><td style=\"text-align: right;\">                       160</td><td style=\"text-align: right;\">         1</td><td style=\"text-align: right;\">                 20</td><td style=\"text-align: right;\">                    0</td><td style=\"text-align: right;\">327000          </td><td style=\"text-align: right;\">                27</td><td style=\"text-align: right;\">           116</td><td style=\"text-align: right;\">    0</td><td style=\"text-align: right;\">        0</td><td style=\"text-align: right;\">     8</td><td style=\"text-align: right;\">            1</td></tr>\n",
              "<tr><td style=\"text-align: right;\">   90</td><td style=\"text-align: right;\">        1</td><td style=\"text-align: right;\">                        47</td><td style=\"text-align: right;\">         0</td><td style=\"text-align: right;\">                 40</td><td style=\"text-align: right;\">                    1</td><td style=\"text-align: right;\">204000          </td><td style=\"text-align: right;\">                21</td><td style=\"text-align: right;\">           132</td><td style=\"text-align: right;\">    1</td><td style=\"text-align: right;\">        1</td><td style=\"text-align: right;\">     8</td><td style=\"text-align: right;\">            1</td></tr>\n",
              "<tr><td style=\"text-align: right;\">   75</td><td style=\"text-align: right;\">        1</td><td style=\"text-align: right;\">                       246</td><td style=\"text-align: right;\">         0</td><td style=\"text-align: right;\">                 15</td><td style=\"text-align: right;\">                    0</td><td style=\"text-align: right;\">127000          </td><td style=\"text-align: right;\">                12</td><td style=\"text-align: right;\">           137</td><td style=\"text-align: right;\">    1</td><td style=\"text-align: right;\">        0</td><td style=\"text-align: right;\">    10</td><td style=\"text-align: right;\">            1</td></tr>\n",
              "<tr><td style=\"text-align: right;\">   60</td><td style=\"text-align: right;\">        1</td><td style=\"text-align: right;\">                       315</td><td style=\"text-align: right;\">         1</td><td style=\"text-align: right;\">                 60</td><td style=\"text-align: right;\">                    0</td><td style=\"text-align: right;\">454000          </td><td style=\"text-align: right;\">                11</td><td style=\"text-align: right;\">           131</td><td style=\"text-align: right;\">    1</td><td style=\"text-align: right;\">        1</td><td style=\"text-align: right;\">    10</td><td style=\"text-align: right;\">            1</td></tr>\n",
              "<tr><td style=\"text-align: right;\">   65</td><td style=\"text-align: right;\">        0</td><td style=\"text-align: right;\">                       157</td><td style=\"text-align: right;\">         0</td><td style=\"text-align: right;\">                 65</td><td style=\"text-align: right;\">                    0</td><td style=\"text-align: right;\">     2.63358e+07</td><td style=\"text-align: right;\">                15</td><td style=\"text-align: right;\">           138</td><td style=\"text-align: right;\">    0</td><td style=\"text-align: right;\">        0</td><td style=\"text-align: right;\">    10</td><td style=\"text-align: right;\">            1</td></tr>\n",
              "<tr><td style=\"text-align: right;\">   80</td><td style=\"text-align: right;\">        1</td><td style=\"text-align: right;\">                       123</td><td style=\"text-align: right;\">         0</td><td style=\"text-align: right;\">                 35</td><td style=\"text-align: right;\">                    1</td><td style=\"text-align: right;\">388000          </td><td style=\"text-align: right;\">                94</td><td style=\"text-align: right;\">           133</td><td style=\"text-align: right;\">    1</td><td style=\"text-align: right;\">        1</td><td style=\"text-align: right;\">    10</td><td style=\"text-align: right;\">            1</td></tr>\n",
              "</tbody>\n",
              "</table>"
            ]
          },
          "metadata": {},
          "output_type": "display_data"
        },
        {
          "data": {
            "text/plain": [
              ""
            ]
          },
          "execution_count": null,
          "metadata": {},
          "output_type": "execute_result"
        }
      ]
    },
    {
      "cell_type": "code",
      "metadata": {
        "colab": {
          "base_uri": "https://localhost:8080/",
          "height": 485
        },
        "id": "i7b_Qe8gn6rm",
        "outputId": "56d1fd21-f2eb-48b4-b812-c4fa91b68f38"
      },
      "source": [
        "df.describe()"
      ],
      "execution_count": null,
      "outputs": [
        {
          "name": "stdout",
          "output_type": "stream",
          "text": [
            "Rows:299\n",
            "Cols:13\n",
            "\n",
            "\n"
          ]
        },
        {
          "data": {
            "text/html": [
              "<table>\n",
              "<thead>\n",
              "<tr><th>       </th><th>age               </th><th>anaemia           </th><th>creatinine_phosphokinase  </th><th>diabetes           </th><th>ejection_fraction  </th><th>high_blood_pressure  </th><th>platelets        </th><th>serum_creatinine  </th><th>serum_sodium      </th><th>sex                </th><th>smoking            </th><th>time              </th><th>DEATH_EVENT        </th></tr>\n",
              "</thead>\n",
              "<tbody>\n",
              "<tr><td>type   </td><td>int               </td><td>int               </td><td>int                       </td><td>int                </td><td>int                </td><td>int                  </td><td>int              </td><td>int               </td><td>int               </td><td>int                </td><td>int                </td><td>int               </td><td>int                </td></tr>\n",
              "<tr><td>mins   </td><td>40.0              </td><td>0.0               </td><td>23.0                      </td><td>0.0                </td><td>14.0               </td><td>0.0                  </td><td>25100.0          </td><td>1.0               </td><td>113.0             </td><td>0.0                </td><td>0.0                </td><td>4.0               </td><td>0.0                </td></tr>\n",
              "<tr><td>mean   </td><td>466.22742474916396</td><td>0.431438127090301 </td><td>581.8394648829429         </td><td>0.4180602006688963 </td><td>38.08361204013379  </td><td>0.3511705685618729   </td><td>2443328.344481602</td><td>20.190635451505024</td><td>136.62541806020067</td><td>0.6488294314381271 </td><td>0.3210702341137124 </td><td>130.26086956521738</td><td>0.3210702341137124 </td></tr>\n",
              "<tr><td>maxs   </td><td>60667.0           </td><td>1.0               </td><td>7861.0                    </td><td>1.0                </td><td>80.0               </td><td>1.0                  </td><td>26335803.0       </td><td>183.0             </td><td>148.0             </td><td>1.0                </td><td>1.0                </td><td>285.0             </td><td>1.0                </td></tr>\n",
              "<tr><td>sigma  </td><td>4948.431407806806 </td><td>0.4961072681330793</td><td>970.2878807124358         </td><td>0.49406706510360904</td><td>11.834840741039168 </td><td>0.47813637906274475  </td><td>7229746.376703664</td><td>35.29939700319932 </td><td>4.412477283909234 </td><td>0.47813637906274475</td><td>0.46767042805677167</td><td>77.61420795029336 </td><td>0.46767042805677167</td></tr>\n",
              "<tr><td>zeros  </td><td>0                 </td><td>170               </td><td>0                         </td><td>174                </td><td>0                  </td><td>194                  </td><td>0                </td><td>0                 </td><td>0                 </td><td>105                </td><td>203                </td><td>0                 </td><td>203                </td></tr>\n",
              "<tr><td>missing</td><td>0                 </td><td>0                 </td><td>0                         </td><td>0                  </td><td>0                  </td><td>0                    </td><td>0                </td><td>0                 </td><td>0                 </td><td>0                  </td><td>0                  </td><td>0                 </td><td>0                  </td></tr>\n",
              "<tr><td>0      </td><td>75.0              </td><td>0.0               </td><td>582.0                     </td><td>0.0                </td><td>20.0               </td><td>1.0                  </td><td>265000.0         </td><td>19.0              </td><td>130.0             </td><td>1.0                </td><td>0.0                </td><td>4.0               </td><td>1.0                </td></tr>\n",
              "<tr><td>1      </td><td>55.0              </td><td>0.0               </td><td>7861.0                    </td><td>0.0                </td><td>38.0               </td><td>0.0                  </td><td>26335803.0       </td><td>11.0              </td><td>136.0             </td><td>1.0                </td><td>0.0                </td><td>6.0               </td><td>1.0                </td></tr>\n",
              "<tr><td>2      </td><td>65.0              </td><td>0.0               </td><td>146.0                     </td><td>0.0                </td><td>20.0               </td><td>0.0                  </td><td>162000.0         </td><td>13.0              </td><td>129.0             </td><td>1.0                </td><td>1.0                </td><td>7.0               </td><td>1.0                </td></tr>\n",
              "<tr><td>3      </td><td>50.0              </td><td>1.0               </td><td>111.0                     </td><td>0.0                </td><td>20.0               </td><td>0.0                  </td><td>210000.0         </td><td>19.0              </td><td>137.0             </td><td>1.0                </td><td>0.0                </td><td>7.0               </td><td>1.0                </td></tr>\n",
              "<tr><td>4      </td><td>65.0              </td><td>1.0               </td><td>160.0                     </td><td>1.0                </td><td>20.0               </td><td>0.0                  </td><td>327000.0         </td><td>27.0              </td><td>116.0             </td><td>0.0                </td><td>0.0                </td><td>8.0               </td><td>1.0                </td></tr>\n",
              "<tr><td>5      </td><td>90.0              </td><td>1.0               </td><td>47.0                      </td><td>0.0                </td><td>40.0               </td><td>1.0                  </td><td>204000.0         </td><td>21.0              </td><td>132.0             </td><td>1.0                </td><td>1.0                </td><td>8.0               </td><td>1.0                </td></tr>\n",
              "<tr><td>6      </td><td>75.0              </td><td>1.0               </td><td>246.0                     </td><td>0.0                </td><td>15.0               </td><td>0.0                  </td><td>127000.0         </td><td>12.0              </td><td>137.0             </td><td>1.0                </td><td>0.0                </td><td>10.0              </td><td>1.0                </td></tr>\n",
              "<tr><td>7      </td><td>60.0              </td><td>1.0               </td><td>315.0                     </td><td>1.0                </td><td>60.0               </td><td>0.0                  </td><td>454000.0         </td><td>11.0              </td><td>131.0             </td><td>1.0                </td><td>1.0                </td><td>10.0              </td><td>1.0                </td></tr>\n",
              "<tr><td>8      </td><td>65.0              </td><td>0.0               </td><td>157.0                     </td><td>0.0                </td><td>65.0               </td><td>0.0                  </td><td>26335803.0       </td><td>15.0              </td><td>138.0             </td><td>0.0                </td><td>0.0                </td><td>10.0              </td><td>1.0                </td></tr>\n",
              "<tr><td>9      </td><td>80.0              </td><td>1.0               </td><td>123.0                     </td><td>0.0                </td><td>35.0               </td><td>1.0                  </td><td>388000.0         </td><td>94.0              </td><td>133.0             </td><td>1.0                </td><td>1.0                </td><td>10.0              </td><td>1.0                </td></tr>\n",
              "</tbody>\n",
              "</table>"
            ]
          },
          "metadata": {},
          "output_type": "display_data"
        }
      ]
    },
    {
      "cell_type": "code",
      "metadata": {
        "id": "Z0xl2CxqcvWj"
      },
      "source": [
        "y= \"DEATH_EVENT\"\n",
        "x = df.columns\n",
        "x.remove(y)"
      ],
      "execution_count": null,
      "outputs": []
    },
    {
      "cell_type": "code",
      "metadata": {
        "id": "y1OGPEyboFnL"
      },
      "source": [
        "df[y] = df[y].asfactor()"
      ],
      "execution_count": null,
      "outputs": []
    },
    {
      "cell_type": "code",
      "metadata": {
        "colab": {
          "base_uri": "https://localhost:8080/"
        },
        "id": "Ju4Cucrtc9rd",
        "outputId": "0ae85ee4-aa78-465f-9263-a5a14cf58609"
      },
      "source": [
        "aml = H2OAutoML(max_models = 20, seed = 1)\n",
        "aml.train(x = x, y = y, training_frame = df)"
      ],
      "execution_count": null,
      "outputs": [
        {
          "name": "stdout",
          "output_type": "stream",
          "text": [
            "AutoML progress: |████████████████████████████████████████████████████████| 100%\n"
          ]
        }
      ]
    },
    {
      "cell_type": "code",
      "metadata": {
        "id": "stpOuWyZdA98"
      },
      "source": [
        "lb = aml.leaderboard"
      ],
      "execution_count": null,
      "outputs": []
    },
    {
      "cell_type": "code",
      "metadata": {
        "colab": {
          "base_uri": "https://localhost:8080/",
          "height": 250
        },
        "id": "iJTq8qr6dB0S",
        "outputId": "7168e247-eae6-47a5-d24a-bfe41218fbbe"
      },
      "source": [
        "lb.head()"
      ],
      "execution_count": null,
      "outputs": [
        {
          "data": {
            "text/html": [
              "<table>\n",
              "<thead>\n",
              "<tr><th>model_id                                           </th><th style=\"text-align: right;\">     auc</th><th style=\"text-align: right;\">  logloss</th><th style=\"text-align: right;\">   aucpr</th><th style=\"text-align: right;\">  mean_per_class_error</th><th style=\"text-align: right;\">    rmse</th><th style=\"text-align: right;\">     mse</th></tr>\n",
              "</thead>\n",
              "<tbody>\n",
              "<tr><td>GBM_4_AutoML_20210913_153132                       </td><td style=\"text-align: right;\">0.919438</td><td style=\"text-align: right;\"> 0.339772</td><td style=\"text-align: right;\">0.82756 </td><td style=\"text-align: right;\">              0.153428</td><td style=\"text-align: right;\">0.324265</td><td style=\"text-align: right;\">0.105148</td></tr>\n",
              "<tr><td>StackedEnsemble_AllModels_AutoML_20210913_153132   </td><td style=\"text-align: right;\">0.919232</td><td style=\"text-align: right;\"> 0.35896 </td><td style=\"text-align: right;\">0.839298</td><td style=\"text-align: right;\">              0.170182</td><td style=\"text-align: right;\">0.331426</td><td style=\"text-align: right;\">0.109843</td></tr>\n",
              "<tr><td>GBM_3_AutoML_20210913_153132                       </td><td style=\"text-align: right;\">0.918976</td><td style=\"text-align: right;\"> 0.341491</td><td style=\"text-align: right;\">0.839643</td><td style=\"text-align: right;\">              0.167719</td><td style=\"text-align: right;\">0.324261</td><td style=\"text-align: right;\">0.105145</td></tr>\n",
              "<tr><td>GBM_2_AutoML_20210913_153132                       </td><td style=\"text-align: right;\">0.917077</td><td style=\"text-align: right;\"> 0.344969</td><td style=\"text-align: right;\">0.845176</td><td style=\"text-align: right;\">              0.158354</td><td style=\"text-align: right;\">0.326608</td><td style=\"text-align: right;\">0.106673</td></tr>\n",
              "<tr><td>StackedEnsemble_BestOfFamily_AutoML_20210913_153132</td><td style=\"text-align: right;\">0.913177</td><td style=\"text-align: right;\"> 0.352798</td><td style=\"text-align: right;\">0.80404 </td><td style=\"text-align: right;\">              0.169335</td><td style=\"text-align: right;\">0.329421</td><td style=\"text-align: right;\">0.108518</td></tr>\n",
              "<tr><td>XGBoost_3_AutoML_20210913_153132                   </td><td style=\"text-align: right;\">0.912254</td><td style=\"text-align: right;\"> 0.356595</td><td style=\"text-align: right;\">0.826454</td><td style=\"text-align: right;\">              0.161381</td><td style=\"text-align: right;\">0.331459</td><td style=\"text-align: right;\">0.109865</td></tr>\n",
              "<tr><td>GBM_grid__1_AutoML_20210913_153132_model_2         </td><td style=\"text-align: right;\">0.911638</td><td style=\"text-align: right;\"> 0.352953</td><td style=\"text-align: right;\">0.831746</td><td style=\"text-align: right;\">              0.17208 </td><td style=\"text-align: right;\">0.331605</td><td style=\"text-align: right;\">0.109962</td></tr>\n",
              "<tr><td>GBM_1_AutoML_20210913_153132                       </td><td style=\"text-align: right;\">0.909842</td><td style=\"text-align: right;\"> 0.369698</td><td style=\"text-align: right;\">0.842656</td><td style=\"text-align: right;\">              0.171234</td><td style=\"text-align: right;\">0.339395</td><td style=\"text-align: right;\">0.115189</td></tr>\n",
              "<tr><td>DRF_1_AutoML_20210913_153132                       </td><td style=\"text-align: right;\">0.909072</td><td style=\"text-align: right;\"> 0.361301</td><td style=\"text-align: right;\">0.79901 </td><td style=\"text-align: right;\">              0.181163</td><td style=\"text-align: right;\">0.334753</td><td style=\"text-align: right;\">0.112059</td></tr>\n",
              "<tr><td>XGBoost_grid__1_AutoML_20210913_153132_model_3     </td><td style=\"text-align: right;\">0.907584</td><td style=\"text-align: right;\"> 0.358017</td><td style=\"text-align: right;\">0.824763</td><td style=\"text-align: right;\">              0.161381</td><td style=\"text-align: right;\">0.333565</td><td style=\"text-align: right;\">0.111266</td></tr>\n",
              "</tbody>\n",
              "</table>"
            ]
          },
          "metadata": {},
          "output_type": "display_data"
        },
        {
          "data": {
            "text/plain": [
              ""
            ]
          },
          "execution_count": 25,
          "metadata": {},
          "output_type": "execute_result"
        }
      ]
    },
    {
      "cell_type": "code",
      "metadata": {
        "colab": {
          "base_uri": "https://localhost:8080/",
          "height": 502
        },
        "id": "D_VTYQH-dqYe",
        "outputId": "5858ef81-8a69-4ea1-a8b8-17146cb8eb3e"
      },
      "source": [
        "lb.head(rows=lb.nrows)"
      ],
      "execution_count": 81,
      "outputs": [
        {
          "output_type": "display_data",
          "data": {
            "text/html": [
              "<table>\n",
              "<thead>\n",
              "<tr><th>model_id                                           </th><th style=\"text-align: right;\">     auc</th><th style=\"text-align: right;\">  logloss</th><th style=\"text-align: right;\">   aucpr</th><th style=\"text-align: right;\">  mean_per_class_error</th><th style=\"text-align: right;\">    rmse</th><th style=\"text-align: right;\">     mse</th></tr>\n",
              "</thead>\n",
              "<tbody>\n",
              "<tr><td>GBM_4_AutoML_20210914_142759                       </td><td style=\"text-align: right;\">0.919438</td><td style=\"text-align: right;\"> 0.339772</td><td style=\"text-align: right;\">0.82756 </td><td style=\"text-align: right;\">              0.153428</td><td style=\"text-align: right;\">0.324265</td><td style=\"text-align: right;\">0.105148</td></tr>\n",
              "<tr><td>GBM_3_AutoML_20210914_142759                       </td><td style=\"text-align: right;\">0.918976</td><td style=\"text-align: right;\"> 0.341491</td><td style=\"text-align: right;\">0.839643</td><td style=\"text-align: right;\">              0.167719</td><td style=\"text-align: right;\">0.324261</td><td style=\"text-align: right;\">0.105145</td></tr>\n",
              "<tr><td>GBM_2_AutoML_20210914_142759                       </td><td style=\"text-align: right;\">0.917077</td><td style=\"text-align: right;\"> 0.344969</td><td style=\"text-align: right;\">0.845176</td><td style=\"text-align: right;\">              0.158354</td><td style=\"text-align: right;\">0.326608</td><td style=\"text-align: right;\">0.106673</td></tr>\n",
              "<tr><td>StackedEnsemble_AllModels_AutoML_20210914_142759   </td><td style=\"text-align: right;\">0.914665</td><td style=\"text-align: right;\"> 0.364767</td><td style=\"text-align: right;\">0.838351</td><td style=\"text-align: right;\">              0.172645</td><td style=\"text-align: right;\">0.335505</td><td style=\"text-align: right;\">0.112563</td></tr>\n",
              "<tr><td>StackedEnsemble_BestOfFamily_AutoML_20210914_142759</td><td style=\"text-align: right;\">0.914409</td><td style=\"text-align: right;\"> 0.347513</td><td style=\"text-align: right;\">0.822864</td><td style=\"text-align: right;\">              0.15997 </td><td style=\"text-align: right;\">0.327849</td><td style=\"text-align: right;\">0.107485</td></tr>\n",
              "<tr><td>XGBoost_3_AutoML_20210914_142759                   </td><td style=\"text-align: right;\">0.912254</td><td style=\"text-align: right;\"> 0.356595</td><td style=\"text-align: right;\">0.826454</td><td style=\"text-align: right;\">              0.161381</td><td style=\"text-align: right;\">0.331459</td><td style=\"text-align: right;\">0.109865</td></tr>\n",
              "<tr><td>GBM_grid__1_AutoML_20210914_142759_model_2         </td><td style=\"text-align: right;\">0.911638</td><td style=\"text-align: right;\"> 0.352953</td><td style=\"text-align: right;\">0.831746</td><td style=\"text-align: right;\">              0.17208 </td><td style=\"text-align: right;\">0.331605</td><td style=\"text-align: right;\">0.109962</td></tr>\n",
              "<tr><td>GBM_1_AutoML_20210914_142759                       </td><td style=\"text-align: right;\">0.909842</td><td style=\"text-align: right;\"> 0.369698</td><td style=\"text-align: right;\">0.842656</td><td style=\"text-align: right;\">              0.171234</td><td style=\"text-align: right;\">0.339395</td><td style=\"text-align: right;\">0.115189</td></tr>\n",
              "<tr><td>DRF_1_AutoML_20210914_142759                       </td><td style=\"text-align: right;\">0.909072</td><td style=\"text-align: right;\"> 0.361301</td><td style=\"text-align: right;\">0.79901 </td><td style=\"text-align: right;\">              0.181163</td><td style=\"text-align: right;\">0.334753</td><td style=\"text-align: right;\">0.112059</td></tr>\n",
              "<tr><td>XGBoost_grid__1_AutoML_20210914_142759_model_3     </td><td style=\"text-align: right;\">0.907584</td><td style=\"text-align: right;\"> 0.358017</td><td style=\"text-align: right;\">0.824763</td><td style=\"text-align: right;\">              0.161381</td><td style=\"text-align: right;\">0.333565</td><td style=\"text-align: right;\">0.111266</td></tr>\n",
              "<tr><td>GBM_grid__1_AutoML_20210914_142759_model_1         </td><td style=\"text-align: right;\">0.907533</td><td style=\"text-align: right;\"> 0.353605</td><td style=\"text-align: right;\">0.836501</td><td style=\"text-align: right;\">              0.164691</td><td style=\"text-align: right;\">0.332529</td><td style=\"text-align: right;\">0.110576</td></tr>\n",
              "<tr><td>XRT_1_AutoML_20210914_142759                       </td><td style=\"text-align: right;\">0.903428</td><td style=\"text-align: right;\"> 0.375473</td><td style=\"text-align: right;\">0.828856</td><td style=\"text-align: right;\">              0.171798</td><td style=\"text-align: right;\">0.339732</td><td style=\"text-align: right;\">0.115418</td></tr>\n",
              "<tr><td>XGBoost_1_AutoML_20210914_142759                   </td><td style=\"text-align: right;\">0.89922 </td><td style=\"text-align: right;\"> 0.373058</td><td style=\"text-align: right;\">0.80185 </td><td style=\"text-align: right;\">              0.173414</td><td style=\"text-align: right;\">0.34149 </td><td style=\"text-align: right;\">0.116615</td></tr>\n",
              "<tr><td>XGBoost_grid__1_AutoML_20210914_142759_model_4     </td><td style=\"text-align: right;\">0.884904</td><td style=\"text-align: right;\"> 0.499036</td><td style=\"text-align: right;\">0.761033</td><td style=\"text-align: right;\">              0.182138</td><td style=\"text-align: right;\">0.379999</td><td style=\"text-align: right;\">0.144399</td></tr>\n",
              "<tr><td>XGBoost_2_AutoML_20210914_142759                   </td><td style=\"text-align: right;\">0.877643</td><td style=\"text-align: right;\"> 0.403055</td><td style=\"text-align: right;\">0.80053 </td><td style=\"text-align: right;\">              0.181086</td><td style=\"text-align: right;\">0.354207</td><td style=\"text-align: right;\">0.125463</td></tr>\n",
              "<tr><td>XGBoost_grid__1_AutoML_20210914_142759_model_2     </td><td style=\"text-align: right;\">0.86856 </td><td style=\"text-align: right;\"> 0.415884</td><td style=\"text-align: right;\">0.788498</td><td style=\"text-align: right;\">              0.200585</td><td style=\"text-align: right;\">0.361309</td><td style=\"text-align: right;\">0.130544</td></tr>\n",
              "<tr><td>XGBoost_grid__1_AutoML_20210914_142759_model_1     </td><td style=\"text-align: right;\">0.855629</td><td style=\"text-align: right;\"> 0.431905</td><td style=\"text-align: right;\">0.761492</td><td style=\"text-align: right;\">              0.207615</td><td style=\"text-align: right;\">0.373065</td><td style=\"text-align: right;\">0.139178</td></tr>\n",
              "<tr><td>GLM_1_AutoML_20210914_142759                       </td><td style=\"text-align: right;\">0.833693</td><td style=\"text-align: right;\"> 0.456458</td><td style=\"text-align: right;\">0.716094</td><td style=\"text-align: right;\">              0.239789</td><td style=\"text-align: right;\">0.383847</td><td style=\"text-align: right;\">0.147339</td></tr>\n",
              "<tr><td>DeepLearning_grid__2_AutoML_20210914_142759_model_1</td><td style=\"text-align: right;\">0.831691</td><td style=\"text-align: right;\"> 0.560612</td><td style=\"text-align: right;\">0.745996</td><td style=\"text-align: right;\">              0.223035</td><td style=\"text-align: right;\">0.423378</td><td style=\"text-align: right;\">0.179249</td></tr>\n",
              "<tr><td>GBM_5_AutoML_20210914_142759                       </td><td style=\"text-align: right;\">0.8008  </td><td style=\"text-align: right;\"> 0.501959</td><td style=\"text-align: right;\">0.671164</td><td style=\"text-align: right;\">              0.253566</td><td style=\"text-align: right;\">0.406636</td><td style=\"text-align: right;\">0.165353</td></tr>\n",
              "<tr><td>DeepLearning_1_AutoML_20210914_142759              </td><td style=\"text-align: right;\">0.785201</td><td style=\"text-align: right;\"> 0.554617</td><td style=\"text-align: right;\">0.610889</td><td style=\"text-align: right;\">              0.245972</td><td style=\"text-align: right;\">0.420912</td><td style=\"text-align: right;\">0.177167</td></tr>\n",
              "<tr><td>DeepLearning_grid__1_AutoML_20210914_142759_model_1</td><td style=\"text-align: right;\">0.780326</td><td style=\"text-align: right;\"> 0.901289</td><td style=\"text-align: right;\">0.684972</td><td style=\"text-align: right;\">              0.282225</td><td style=\"text-align: right;\">0.480161</td><td style=\"text-align: right;\">0.230554</td></tr>\n",
              "</tbody>\n",
              "</table>"
            ]
          },
          "metadata": {}
        },
        {
          "output_type": "execute_result",
          "data": {
            "text/plain": [
              ""
            ]
          },
          "metadata": {},
          "execution_count": 81
        }
      ]
    },
    {
      "cell_type": "code",
      "metadata": {
        "id": "j5OtEjH8dyeP"
      },
      "source": [
        "metalearner = h2o.get_model(\"XGBoost_3_AutoML_20210914_142759\")"
      ],
      "execution_count": 83,
      "outputs": []
    },
    {
      "cell_type": "code",
      "metadata": {
        "colab": {
          "base_uri": "https://localhost:8080/"
        },
        "id": "A-dUDclCohFu",
        "outputId": "64d90fb4-4af7-4d3a-a162-008ed9729d21"
      },
      "source": [
        "metalearner.actual_params"
      ],
      "execution_count": 84,
      "outputs": [
        {
          "output_type": "execute_result",
          "data": {
            "text/plain": [
              "{'auc_type': 'AUTO',\n",
              " 'backend': 'cpu',\n",
              " 'booster': 'gbtree',\n",
              " 'build_tree_one_node': False,\n",
              " 'calibrate_model': False,\n",
              " 'calibration_frame': None,\n",
              " 'categorical_encoding': 'OneHotInternal',\n",
              " 'checkpoint': None,\n",
              " 'col_sample_rate': 0.8,\n",
              " 'col_sample_rate_per_tree': 0.8,\n",
              " 'colsample_bylevel': 0.8,\n",
              " 'colsample_bynode': 1.0,\n",
              " 'colsample_bytree': 0.8,\n",
              " 'distribution': 'bernoulli',\n",
              " 'dmatrix_type': 'dense',\n",
              " 'eta': 0.3,\n",
              " 'export_checkpoints_dir': None,\n",
              " 'fold_assignment': 'Modulo',\n",
              " 'fold_column': None,\n",
              " 'gainslift_bins': -1,\n",
              " 'gamma': 0.0,\n",
              " 'gpu_id': None,\n",
              " 'grow_policy': 'depthwise',\n",
              " 'ignore_const_cols': True,\n",
              " 'ignored_columns': [],\n",
              " 'interaction_constraints': None,\n",
              " 'keep_cross_validation_fold_assignment': False,\n",
              " 'keep_cross_validation_models': False,\n",
              " 'keep_cross_validation_predictions': True,\n",
              " 'learn_rate': 0.3,\n",
              " 'max_abs_leafnode_pred': 0.0,\n",
              " 'max_bins': 256,\n",
              " 'max_delta_step': 0.0,\n",
              " 'max_depth': 5,\n",
              " 'max_leaves': 0,\n",
              " 'max_runtime_secs': 0.0,\n",
              " 'min_child_weight': 3.0,\n",
              " 'min_rows': 3.0,\n",
              " 'min_split_improvement': 0.0,\n",
              " 'model_id': 'XGBoost_3_AutoML_20210914_142759',\n",
              " 'monotone_constraints': None,\n",
              " 'nfolds': 5,\n",
              " 'normalize_type': 'tree',\n",
              " 'nthread': -1,\n",
              " 'ntrees': 38,\n",
              " 'offset_column': None,\n",
              " 'one_drop': False,\n",
              " 'quiet_mode': True,\n",
              " 'rate_drop': 0.0,\n",
              " 'reg_alpha': 0.0,\n",
              " 'reg_lambda': 1.0,\n",
              " 'response_column': 'DEATH_EVENT',\n",
              " 'sample_rate': 0.8,\n",
              " 'sample_type': 'uniform',\n",
              " 'save_matrix_directory': None,\n",
              " 'scale_pos_weight': 1.0,\n",
              " 'score_each_iteration': False,\n",
              " 'score_tree_interval': 5,\n",
              " 'seed': 3,\n",
              " 'skip_drop': 0.0,\n",
              " 'stopping_metric': 'logloss',\n",
              " 'stopping_rounds': 0,\n",
              " 'stopping_tolerance': 0.05,\n",
              " 'subsample': 0.8,\n",
              " 'training_frame': 'automl_training_py_338_sid_a47a',\n",
              " 'tree_method': 'exact',\n",
              " 'tweedie_power': 1.5,\n",
              " 'validation_frame': None,\n",
              " 'weights_column': None}"
            ]
          },
          "metadata": {},
          "execution_count": 84
        }
      ]
    },
    {
      "cell_type": "code",
      "metadata": {
        "id": "uNPUuEwOnTFq"
      },
      "source": [
        ""
      ],
      "execution_count": null,
      "outputs": []
    }
  ]
}